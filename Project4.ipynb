{
 "cells": [
  {
   "cell_type": "code",
   "execution_count": 30,
   "id": "14c6a876-4eb3-42a6-9b23-13068feed8b3",
   "metadata": {
    "tags": []
   },
   "outputs": [],
   "source": [
    "#Jasmine Widgery\n",
    "#Project 4\n",
    "#Fall 2023"
   ]
  },
  {
   "cell_type": "code",
   "execution_count": 31,
   "id": "53bda302-095a-4a4e-a045-21aec1fa9348",
   "metadata": {
    "tags": []
   },
   "outputs": [],
   "source": [
    "import PIL\n",
    "from PIL import Image\n",
    "import random as rand\n",
    "import math\n",
    "import numpy as np"
   ]
  },
  {
   "cell_type": "code",
   "execution_count": 32,
   "id": "3e7c9b12-574d-4aca-9aeb-4be8f5feaf2d",
   "metadata": {
    "tags": []
   },
   "outputs": [],
   "source": [
    "#init images\n",
    "images = [\"pixelArt\", \"abstract_colors\", \"spidey\"]\n"
   ]
  },
  {
   "cell_type": "code",
   "execution_count": 33,
   "id": "0feac601-1c26-465f-9c0d-9e1f4a382ac5",
   "metadata": {},
   "outputs": [],
   "source": [
    "#implement functions\n",
    "\n",
    "#Define globals and consts\n",
    "RGB_SIZE = 3\n",
    "MAX_ITER = 2000\n",
    "zeroMat = np.zeros([1, 1, 3])\n",
    "\n",
    "global numIter\n",
    "numIter = 0\n",
    "\n",
    "def k_means_KICKSTARTER(data, k):\n",
    "    means = data[np.random.choice(range(len(data)), k)].T #init at random\n",
    "    return k_means(data, k, means)\n",
    "\n",
    "\n",
    "def k_means(data, k, prevMeans):\n",
    "    global numIter\n",
    "    repeated_data = np.stack([data] * k, axis=-1)\n",
    "    #print(repeated_data)\n",
    "    all_rows = np.arange(len(data))\n",
    "    \n",
    "    while numIter <= MAX_ITER:\n",
    "        numIter += 1\n",
    "        distances = np.sum(np.square(repeated_data - prevMeans), axis=1)\n",
    "        # get shortest min\n",
    "        closestCentroid = np.argmin(distances, axis=-1)\n",
    "\n",
    "        mat = np.zeros([len(data), k, RGB_SIZE])\n",
    "        #print(mat)\n",
    "        mat[all_rows, closestCentroid] = data\n",
    "        #print(mat)\n",
    "\n",
    "        # get how many points are assigned to each centroid\n",
    "        counts = (mat != zeroMat).sum(axis=0)\n",
    "        \n",
    "        #reassign\n",
    "        means = mat.sum(axis=0).T / counts.clip(min=1).T\n",
    "        if(prevMeans.sort() == means.sort()):   \n",
    "            return means.T\n",
    "            print(mat)\n",
    "        else:\n",
    "            k_means(data, k, means)\n",
    "\n",
    "def dist(pt1, pt2):\n",
    "    return math.dist(pt1, pt2)\n",
    "    #sum = 0\n",
    "    #for i, j in zip(pt1, pt2):\n",
    "    #   sum = sum + (i + j)**2\n",
    "    #return np.sqrt(sum)\n",
    "\n",
    "def GetClosestCentroid(pt, centroidList):\n",
    "    minDist = math.inf\n",
    "    closest = []\n",
    "    for c in centroidList:\n",
    "        currDist = dist(c, pt)\n",
    "        if currDist < minDist:\n",
    "            minDist = currDist\n",
    "            closest = c\n",
    "    return closest"
   ]
  },
  {
   "cell_type": "code",
   "execution_count": 34,
   "id": "010a9906-4a02-47d2-814f-c9b1e1c3e808",
   "metadata": {
    "tags": []
   },
   "outputs": [
    {
     "name": "stdout",
     "output_type": "stream",
     "text": [
      "[array([ 23.,  66., 142.]), array([188., 110., 237.]), array([243., 114., 254.])]\n",
      "[array([ 4., 48., 96.]), array([  4.,  88., 172.]), array([ 26.,  97., 213.]), array([210., 110., 247.])]\n",
      "[array([0., 0., 0.]), array([ 2., 48., 77.]), array([21., 50., 98.]), array([ 24.,  96., 208.]), array([210., 110., 247.])]\n",
      "[array([ 3., 45., 85.]), array([  5.,  53., 115.]), array([  7.,  71., 157.]), array([ 37.,  94., 239.]), array([205., 116., 250.]), array([217., 121., 253.])]\n",
      "[array([0., 0., 0.]), array([0., 0., 0.]), array([0., 0., 0.]), array([ 3., 45., 85.]), array([  5.,  53., 109.]), array([  5.,  77., 169.]), array([199., 111., 247.])]\n",
      "[array([0., 0., 0.]), array([ 2., 44., 79.]), array([ 3., 47., 86.]), array([ 5., 47., 98.]), array([  7.,  53., 116.]), array([ 11.,  94., 205.]), array([164., 109., 239.]), array([244., 114., 252.])]\n",
      "[array([ 2., 45., 75.]), array([ 7., 48., 81.]), array([10., 53., 99.]), array([ 28.,  71., 156.]), array([ 29.,  90., 240.]), array([ 38., 105., 241.]), array([176., 112., 249.]), array([228., 158., 253.]), array([245., 179., 253.])]\n",
      "[array([0., 0., 0.]), array([ 2., 44., 72.]), array([ 3., 47., 84.]), array([ 4., 58., 92.]), array([ 19.,  66., 128.]), array([ 67.,  80., 239.]), array([130.,  91., 242.]), array([189., 111., 248.]), array([245., 128., 252.]), array([245., 128., 253.])]\n",
      "[array([46., 60., 40.]), array([ 71.,  74., 116.]), array([145., 186., 198.])]\n",
      "[array([29., 21., 43.]), array([87., 42., 65.]), array([181.,  66.,  81.]), array([212., 151., 103.])]\n",
      "[array([20., 11., 31.]), array([23., 47., 43.]), array([24., 90., 81.]), array([110., 105., 151.]), array([202., 106., 155.])]\n",
      "[array([14., 12., 20.]), array([25., 23., 28.]), array([82., 34., 54.]), array([159., 101., 126.]), array([203., 102., 133.]), array([210., 146., 161.])]\n",
      "[array([ 9.,  7., 19.]), array([22., 11., 24.]), array([26., 17., 37.]), array([26., 59., 62.]), array([66., 76., 85.]), array([166., 130., 154.]), array([204., 133., 160.])]\n",
      "[array([20., 20., 18.]), array([24., 31., 40.]), array([30., 34., 96.]), array([ 63.,  51., 119.]), array([104., 107., 133.]), array([154., 123., 157.]), array([203., 125., 167.]), array([227., 144., 190.])]\n",
      "[array([15.,  9., 19.]), array([40., 22., 27.]), array([41., 37., 28.]), array([42., 41., 46.]), array([46., 56., 95.]), array([161.,  66., 125.]), array([203., 136., 125.]), array([203., 176., 173.]), array([216., 201., 178.])]\n",
      "[array([ 9.,  8., 23.]), array([22., 11., 26.]), array([28., 17., 58.]), array([42., 34., 79.]), array([49., 36., 81.]), array([87., 39., 88.]), array([ 98.,  49., 117.]), array([145., 113., 148.]), array([199., 140., 170.]), array([212., 149., 181.])]\n",
      "[array([31., 43., 61.]), array([158.,  49.,  62.]), array([191., 170., 107.])]\n",
      "[array([27.,  7.,  9.]), array([28., 25., 43.]), array([28., 44., 73.]), array([147., 101.,  87.])]\n",
      "[array([29., 14., 18.]), array([105.,  47.,  29.]), array([167., 109.,  44.]), array([222., 168.,  69.]), array([248., 200., 107.])]\n",
      "[array([27., 11., 28.]), array([96., 30., 40.]), array([171.,  61.,  50.]), array([178., 106.,  61.]), array([205., 122., 116.]), array([234., 183., 131.])]\n",
      "[array([14.,  6.,  7.]), array([15., 17., 37.]), array([21., 23., 40.]), array([30., 43., 60.]), array([33., 44., 75.]), array([152.,  99., 106.]), array([159., 140., 132.])]\n",
      "[array([19.,  8., 10.]), array([25., 25., 38.]), array([33., 25., 39.]), array([51., 28., 47.]), array([113.,  36.,  53.]), array([159.,  69.,  68.]), array([184., 117.,  87.]), array([214., 136., 142.])]\n",
      "[array([11., 15., 37.]), array([23., 22., 39.]), array([28., 40., 43.]), array([52., 65., 72.]), array([75., 85., 82.]), array([93., 97., 90.]), array([171., 118., 121.]), array([187., 145., 133.]), array([210., 178., 164.])]\n",
      "[array([16.,  6.,  9.]), array([19., 13., 40.]), array([22., 24., 40.]), array([23., 30., 57.]), array([28., 35., 58.]), array([29., 40., 61.]), array([54., 66., 70.]), array([131.,  99.,  81.]), array([170., 137., 133.]), array([215., 149., 144.])]\n"
     ]
    }
   ],
   "source": [
    "#run functions\n",
    "\n",
    "for pic in images:\n",
    "    fullPicName = pic + \".jpg\"\n",
    "    im = Image.open(fullPicName, 'r')\n",
    "    #data set - list of RGB values for every pixel\n",
    "    D = np.array(im.getdata())\n",
    "\n",
    "    for k in range(3, 11):\n",
    "        numIter = 0\n",
    "        means = k_means_KICKSTARTER(D, k)\n",
    "        means = [np.ceil(x) for x in means] #make centroids ints for PIL library \n",
    "        print(means)\n",
    "        \n",
    "        #assign points to their closest centroid\n",
    "        newImg = []\n",
    "        for row in D:\n",
    "            row = GetClosestCentroid(row, means)\n",
    "            newImg.append(row)\n",
    "        \n",
    "        #Ensure reasonable number of possible centroids have been assigned\n",
    "        #result = {x for l in newImg for x in l}\n",
    "        #print(result)\n",
    "        #print(\"No of unique vals are:\", len(result)) #should be ~k^3\n",
    "        \n",
    "        #output image\n",
    "        newImg = np.array(newImg, dtype = np.int8)\n",
    "        #print(newImg)   \n",
    "        \n",
    "           \n",
    "        im.putdata(tuple(map(tuple, newImg)))\n",
    "        \n",
    "        fileName = pic + str(k) + \".png\"\n",
    "        im.save(fileName, format = \"png\") \n",
    "        #im.show()\n",
    "    "
   ]
  },
  {
   "cell_type": "code",
   "execution_count": null,
   "id": "f42ff6ed-8947-4602-a8bd-62506c1e9cae",
   "metadata": {},
   "outputs": [],
   "source": []
  }
 ],
 "metadata": {
  "kernelspec": {
   "display_name": "Python 3 (ipykernel)",
   "language": "python",
   "name": "python3"
  },
  "language_info": {
   "codemirror_mode": {
    "name": "ipython",
    "version": 3
   },
   "file_extension": ".py",
   "mimetype": "text/x-python",
   "name": "python",
   "nbconvert_exporter": "python",
   "pygments_lexer": "ipython3",
   "version": "3.11.4"
  }
 },
 "nbformat": 4,
 "nbformat_minor": 5
}
